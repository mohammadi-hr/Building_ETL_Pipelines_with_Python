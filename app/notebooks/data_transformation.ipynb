{
 "cells": [
  {
   "metadata": {
    "ExecuteTime": {
     "end_time": "2025-10-23T14:18:45.690861Z",
     "start_time": "2025-10-23T14:18:45.675312Z"
    }
   },
   "cell_type": "markdown",
   "source": "# Data Cleansing and Transformation in Python",
   "id": "6563f780ecbcfe81"
  },
  {
   "metadata": {
    "ExecuteTime": {
     "end_time": "2025-10-23T19:12:49.717561Z",
     "start_time": "2025-10-23T19:12:49.712399Z"
    }
   },
   "cell_type": "code",
   "source": [
    "import logging\n",
    "import pandas as pd\n",
    "import sys"
   ],
   "id": "1772920c787ed7fb",
   "outputs": [],
   "execution_count": 216
  },
  {
   "metadata": {
    "collapsed": true,
    "tags": [],
    "ExecuteTime": {
     "end_time": "2025-10-23T18:08:41.088141Z",
     "start_time": "2025-10-23T18:08:41.081823Z"
    }
   },
   "cell_type": "code",
   "source": [
    "# define paths to data files\n",
    "\n",
    "crashes_data_file = \"../data/raw/traffic_crashes.csv\"\n",
    "vehicles_data_file = \"../data/raw/traffic_crash_vehicle.csv\""
   ],
   "id": "e22a17761ec7af3f",
   "outputs": [],
   "execution_count": 117
  },
  {
   "metadata": {
    "ExecuteTime": {
     "end_time": "2025-10-23T19:22:13.749110Z",
     "start_time": "2025-10-23T19:22:13.715006Z"
    }
   },
   "cell_type": "code",
   "source": [
    "# Configure logging to display in notebook output\n",
    "logger = logging.getLogger()\n",
    "if logger.hasHandlers():\n",
    "    logger.handlers.clear()  # Prevent duplicate logs\n",
    "logger.setLevel(logging.INFO)\n",
    "\n",
    "# Create handlers\n",
    "file_handler = logging.FileHandler(\"pipeline.log\")\n",
    "stream_handler = logging.StreamHandler(sys.stdout)\n",
    "\n",
    "# Create format\n",
    "formatter = logging.Formatter(\"%(asctime)s - %(levelname)s - %(message)s\")\n",
    "file_handler.setFormatter(formatter)\n",
    "stream_handler.setFormatter(formatter)\n",
    "\n",
    "# Add handlers to logger\n",
    "logger.addHandler(file_handler)\n",
    "logger.addHandler(stream_handler)\n",
    "\n",
    "# logging.info(\" Logs will now appear both in Jupyter and in pipeline.log!\")"
   ],
   "id": "1e8b0e973c8c24c1",
   "outputs": [],
   "execution_count": 228
  },
  {
   "metadata": {},
   "cell_type": "code",
   "source": [
    "# import data as dataframes\n",
    "\n",
    "def read_data_sources(source_name):\n",
    "    df = pd.DataFrame()\n",
    "    try:\n",
    "        df= pd.read_csv(source_name)\n",
    "        logging.info(f\"Read {source_name} data source\")\n",
    "    except Exception as e:\n",
    "        logging.exception(f\"Error reading {source_name} : {e}\")\n",
    "    finally:\n",
    "        return df\n",
    "\n",
    "df_crashes = read_data_sources(crashes_data_file)\n",
    "df_vehicles = read_data_sources(vehicles_data_file)\n",
    "\n",
    "# df_crashes.dropna(axis='columns', how='all', inplace=True)\n",
    "# print(df_crashes)"
   ],
   "id": "edd7e2b69ec0dd5f",
   "outputs": [],
   "execution_count": null
  },
  {
   "metadata": {},
   "cell_type": "markdown",
   "source": "## Preliminary Tasks: The Importance of Staging Data",
   "id": "69017244455e30a5"
  },
  {
   "metadata": {},
   "cell_type": "code",
   "source": "df_crashes.head()",
   "id": "769d7063bcd36a33",
   "outputs": [],
   "execution_count": null
  },
  {
   "metadata": {},
   "cell_type": "code",
   "source": "df_crashes.info()",
   "id": "606321e1494d1ded",
   "outputs": [],
   "execution_count": null
  },
  {
   "metadata": {},
   "cell_type": "code",
   "source": "df_crashes.isnull().sum()",
   "id": "978b321439ec79ed",
   "outputs": [],
   "execution_count": null
  },
  {
   "metadata": {},
   "cell_type": "markdown",
   "source": "## clear column and rows that has no data from dataFrame",
   "id": "c91527a16a4d1ec9"
  },
  {
   "metadata": {
    "ExecuteTime": {
     "end_time": "2025-10-23T18:44:36.851238Z",
     "start_time": "2025-10-23T18:44:36.838524Z"
    }
   },
   "cell_type": "code",
   "source": [
    "def drop_rows_with_null_values(df):\n",
    "    df_ = df.dropna(axis='columns', how='all', inplace=False)\n",
    "    return df_"
   ],
   "id": "e82aa64407b4b393",
   "outputs": [],
   "execution_count": 186
  },
  {
   "metadata": {},
   "cell_type": "code",
   "source": "df_crashes = df_crashes.dropna(axis='index', thresh=2, inplace=False)",
   "id": "37317c99a370a92d",
   "outputs": [],
   "execution_count": null
  },
  {
   "metadata": {},
   "cell_type": "markdown",
   "source": "## work with missing data",
   "id": "c4159cd81bdfab8b"
  },
  {
   "metadata": {},
   "cell_type": "code",
   "source": [
    "# get the unique values of the column it is useful for batch data\n",
    "# in this table all the report types in 'ON SCENE' or 'DESK REPORT'\n",
    "df_crashes['report_type'].unique()"
   ],
   "id": "4e4a133d12e3961a",
   "outputs": [],
   "execution_count": null
  },
  {
   "metadata": {
    "ExecuteTime": {
     "end_time": "2025-10-23T18:46:08.278848Z",
     "start_time": "2025-10-23T18:46:08.272434Z"
    }
   },
   "cell_type": "code",
   "source": [
    "def fill_missing_values(df, column_name= 'report_type', value= 'ON SCENE'):\n",
    "    replacement = {column_name: value}\n",
    "    return df.fillna(value=replacement)"
   ],
   "id": "10b51af76ced4206",
   "outputs": [],
   "execution_count": 189
  },
  {
   "metadata": {
    "ExecuteTime": {
     "end_time": "2025-10-23T18:46:10.957110Z",
     "start_time": "2025-10-23T18:46:10.904281Z"
    }
   },
   "cell_type": "code",
   "source": [
    "# fill all NaN field with 'ON SCENE'\n",
    "df_crashes = fill_missing_values(df_crashes)"
   ],
   "id": "be34fa1885c4482",
   "outputs": [],
   "execution_count": 190
  },
  {
   "metadata": {},
   "cell_type": "markdown",
   "source": "## Merging Data",
   "id": "6c09a364545f6e08"
  },
  {
   "metadata": {
    "ExecuteTime": {
     "end_time": "2025-10-23T18:50:03.930911Z",
     "start_time": "2025-10-23T18:50:03.924246Z"
    }
   },
   "cell_type": "code",
   "source": [
    "def merge_dataframes(df_crashes, df_vehicles, on='crash_record_id', how='left'):\n",
    "    return df_crashes.merge(df_vehicles, how, on, suffixes=('_left', '_right'))\n"
   ],
   "id": "2606d83dc419c79b",
   "outputs": [],
   "execution_count": 197
  },
  {
   "metadata": {
    "ExecuteTime": {
     "end_time": "2025-10-23T18:51:47.326972Z",
     "start_time": "2025-10-23T18:51:47.299267Z"
    }
   },
   "cell_type": "code",
   "source": [
    "df_merged = merge_dataframes(df_crashes, df_vehicles)\n",
    "df_merged.shape"
   ],
   "id": "aef81b1b53e1ab33",
   "outputs": [
    {
     "data": {
      "text/plain": [
       "(1510, 120)"
      ]
     },
     "execution_count": 201,
     "metadata": {},
     "output_type": "execute_result"
    }
   ],
   "execution_count": 201
  },
  {
   "metadata": {},
   "cell_type": "code",
   "source": "df_merged.head()",
   "id": "dd0c90ef34a5b06",
   "outputs": [],
   "execution_count": null
  },
  {
   "metadata": {},
   "cell_type": "code",
   "source": [
    "df_agg = df_merged.groupby('vehicle_type').agg({\"crash_record_id\": \"count\"}).reset_index()\n",
    "df_agg"
   ],
   "id": "8fcf82b6e8ce3428",
   "outputs": [],
   "execution_count": null
  },
  {
   "metadata": {},
   "cell_type": "code",
   "source": [
    "number_of_passenger_cars_involved = df_agg[df_agg['vehicle_type'] == 'PASSENGER']['crash_record_id'].array[0]\n",
    "print(number_of_passenger_cars_involved)"
   ],
   "id": "4274c6038859bfea",
   "outputs": [],
   "execution_count": null
  },
  {
   "metadata": {},
   "cell_type": "markdown",
   "source": "## Data Mapping with Target Data",
   "id": "4f231cff574338d4"
  },
  {
   "metadata": {
    "ExecuteTime": {
     "end_time": "2025-10-23T18:52:18.457776Z",
     "start_time": "2025-10-23T18:52:18.450822Z"
    }
   },
   "cell_type": "code",
   "source": [
    "def rename_columns(df, **kwargs):\n",
    "    return df.rename(columns=kwargs)"
   ],
   "id": "4f9335fc23ea83eb",
   "outputs": [],
   "execution_count": 204
  },
  {
   "metadata": {},
   "cell_type": "code",
   "source": [
    "# rename columns for data outputype\" : \"vehicleType\"})\n",
    "df_agg_mapping = rename_columns(df_agg,vehicle_type='vehicleTypes')\n",
    "df_agg_mapping"
   ],
   "id": "2bbf4fd6ed57c517",
   "outputs": [],
   "execution_count": null
  },
  {
   "metadata": {},
   "cell_type": "markdown",
   "source": "## Writing Transformation Function",
   "id": "635f65386a704fbb"
  },
  {
   "metadata": {
    "ExecuteTime": {
     "end_time": "2025-10-23T18:52:47.137025Z",
     "start_time": "2025-10-23T18:52:47.127330Z"
    }
   },
   "cell_type": "code",
   "source": [
    "def get_transformed_data(csv_file_1, csv_file_2):\n",
    "    crashes_df = read_data_sources(csv_file_1)\n",
    "    vehicles_df = read_data_sources(csv_file_2)\n",
    "    print(type(crashes_df))\n",
    "    print(type(vehicles_df))\n",
    "    crashes_df = drop_rows_with_null_values(crashes_df)\n",
    "    vehicles_df = drop_rows_with_null_values(vehicles_df)\n",
    "\n",
    "\n",
    "\n",
    "    crashes_df = fill_missing_values(crashes_df)\n",
    "    vehicles_df = fill_missing_values(vehicles_df)\n",
    "\n",
    "    df= merge_dataframes(crashes_df, vehicles_df)\n",
    "\n",
    "    df_agg = df.groupby('vehicle_type').agg({'crash_record_id': 'count'}).reset_index()\n",
    "\n",
    "    df_agg = rename_columns(df_agg, vehicle_type='vehicletypes')\n",
    "\n",
    "    return df_agg\n"
   ],
   "id": "580570f81361241e",
   "outputs": [],
   "execution_count": 207
  },
  {
   "metadata": {},
   "cell_type": "code",
   "source": "get_transformed_data(crashes_data_file, vehicles_data_file)",
   "id": "c8fc523784136df0",
   "outputs": [],
   "execution_count": null
  }
 ],
 "metadata": {
  "kernelspec": {
   "display_name": "Python 3",
   "language": "python",
   "name": "python3"
  },
  "language_info": {
   "codemirror_mode": {
    "name": "ipython",
    "version": 2
   },
   "file_extension": ".py",
   "mimetype": "text/x-python",
   "name": "python",
   "nbconvert_exporter": "python",
   "pygments_lexer": "ipython2",
   "version": "2.7.6"
  }
 },
 "nbformat": 4,
 "nbformat_minor": 5
}
